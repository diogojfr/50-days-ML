{
 "cells": [
  {
   "cell_type": "markdown",
   "id": "2e6851f7",
   "metadata": {},
   "source": [
    "# Simple Linear Regression"
   ]
  },
  {
   "cell_type": "markdown",
   "id": "55fa35af",
   "metadata": {},
   "source": [
    "### Step 1 - Data preprocessing"
   ]
  },
  {
   "cell_type": "code",
   "execution_count": 2,
   "id": "2398a483",
   "metadata": {},
   "outputs": [],
   "source": [
    "import pandas as pd\n",
    "import numpy as np\n",
    "import matplotlib.pyplot as plt"
   ]
  },
  {
   "cell_type": "code",
   "execution_count": 6,
   "id": "244da3d3",
   "metadata": {},
   "outputs": [],
   "source": [
    "dataset = pd.read_csv('datasets\\studentscores.csv')"
   ]
  },
  {
   "cell_type": "code",
   "execution_count": 12,
   "id": "06253217",
   "metadata": {},
   "outputs": [],
   "source": [
    "from sklearn.model_selection import train_test_split\n",
    "y_col=['Scores']\n",
    "y=dataset[y_col]\n",
    "X=dataset.drop(columns=y_col)\n",
    "\n",
    "X_train, X_test, y_train, y_test = train_test_split(X, y, test_size=0.3, random_state=1)"
   ]
  },
  {
   "cell_type": "markdown",
   "id": "a4edaa00",
   "metadata": {},
   "source": [
    "### Step 2 - Fitting the linear model to the training set"
   ]
  },
  {
   "cell_type": "code",
   "execution_count": 15,
   "id": "9afb7cfb",
   "metadata": {},
   "outputs": [],
   "source": [
    "from sklearn.linear_model import LinearRegression\n",
    "regressor =  LinearRegression()\n",
    "model = regressor.fit(X_train, y_train)"
   ]
  },
  {
   "cell_type": "markdown",
   "id": "40425682",
   "metadata": {},
   "source": [
    "### Step 3 - Predict the result"
   ]
  },
  {
   "cell_type": "code",
   "execution_count": 32,
   "id": "3399ca08",
   "metadata": {},
   "outputs": [],
   "source": [
    "y_pred = model.predict(X_test)"
   ]
  },
  {
   "cell_type": "markdown",
   "id": "5da32e9a",
   "metadata": {},
   "source": [
    "### Step 4 - Visualization"
   ]
  },
  {
   "cell_type": "markdown",
   "id": "195a768d",
   "metadata": {},
   "source": [
    "#### Visualizing training results"
   ]
  },
  {
   "cell_type": "code",
   "execution_count": 43,
   "id": "631ff555",
   "metadata": {},
   "outputs": [
    {
     "data": {
      "image/png": "[encoded data removed]",
      "text/plain": [
       "<Figure size 432x288 with 1 Axes>"
      ]
     },
     "metadata": {
      "needs_background": "light"
     },
     "output_type": "display_data"
    }
   ],
   "source": [
    "plt.scatter(X_train, y_train, color ='red')\n",
    "plt.scatter(X_train, model.predict(X_train), color='blue')\n",
    "plt.show()"
   ]
  },
  {
   "cell_type": "markdown",
   "id": "39f79698",
   "metadata": {},
   "source": [
    "#### Visualizing test results"
   ]
  },
  {
   "cell_type": "code",
   "execution_count": 44,
   "id": "c5bb3d03",
   "metadata": {},
   "outputs": [
    {
     "data": {
      "image/png": "[encoded data removed]",
      "text/plain": [
       "<Figure size 432x288 with 1 Axes>"
      ]
     },
     "metadata": {
      "needs_background": "light"
     },
     "output_type": "display_data"
    }
   ],
   "source": [
    "plt.scatter(X_test, y_test, color ='red')\n",
    "plt.scatter(X_test, model.predict(X_test), color='blue')\n",
    "plt.show()"
   ]
  },
  {
   "cell_type": "code",
   "execution_count": null,
   "id": "287519d0",
   "metadata": {},
   "outputs": [],
   "source": []
  }
 ],
 "metadata": {
  "kernelspec": {
   "display_name": "Python 3 (ipykernel)",
   "language": "python",
   "name": "python3"
  },
  "language_info": {
   "codemirror_mode": {
    "name": "ipython",
    "version": 3
   },
   "file_extension": ".py",
   "mimetype": "text/x-python",
   "name": "python",
   "nbconvert_exporter": "python",
   "pygments_lexer": "ipython3",
   "version": "3.9.12"
  }
 },
 "nbformat": 4,
 "nbformat_minor": 5
}
